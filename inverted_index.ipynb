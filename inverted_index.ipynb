{
 "metadata": {
  "language_info": {
   "codemirror_mode": {
    "name": "ipython",
    "version": 3
   },
   "file_extension": ".py",
   "mimetype": "text/x-python",
   "name": "python",
   "nbconvert_exporter": "python",
   "pygments_lexer": "ipython3",
   "version": "3.9.2"
  },
  "orig_nbformat": 2,
  "kernelspec": {
   "name": "python392jvsc74a57bd0fe06f96167c4fc64a78c238d993189072a4e72b444216e36203d6f96126eaf0a",
   "display_name": "Python 3.9.2 64-bit"
  }
 },
 "nbformat": 4,
 "nbformat_minor": 2,
 "cells": [
  {
   "cell_type": "code",
   "execution_count": null,
   "metadata": {},
   "outputs": [],
   "source": [
    "# Import Library\n",
    "from nltk.tokenize import RegexpTokenizer\n",
    "from Sastrawi.StopWordRemover.StopWordRemoverFactory import StopWordRemoverFactory\n",
    "from Sastrawi.Stemmer.StemmerFactory import StemmerFactory\n",
    "import pandas as pd"
   ]
  },
  {
   "cell_type": "code",
   "execution_count": null,
   "metadata": {},
   "outputs": [],
   "source": [
    "# Dataset\n",
    "dataset = {}\n",
    "dataset[\"d1\"] = \"Kampus STMIK AKBA berlokasi di Jl. Perintis Kemerdekaan No.75, Makassar, 90245.\"\n",
    "dataset[\"d2\"] = \"   Dosen-dosen #STMIK AKBA sedang berkumpul di kampus STMIK AKBA.   \"\n",
    "dataset[\"d3\"] = \"Pemerintah Kota Makassar sedang menyelenggarakan pameran pendidikan Makassar tahun 2021.\""
   ]
  },
  {
   "cell_type": "code",
   "execution_count": null,
   "metadata": {},
   "outputs": [],
   "source": [
    "# Case Folding\n",
    "for k in dataset.keys():\n",
    "    hasil_case_folding = dataset[k].lower()\n",
    "    dataset[k] = hasil_case_folding"
   ]
  },
  {
   "cell_type": "code",
   "execution_count": null,
   "metadata": {},
   "outputs": [],
   "source": [
    "# Whitespace Removal\n",
    "for k in dataset.keys():\n",
    "    hasil_whitespace_removal = dataset[k].strip()\n",
    "    dataset[k] = hasil_whitespace_removal"
   ]
  },
  {
   "cell_type": "code",
   "execution_count": null,
   "metadata": {},
   "outputs": [],
   "source": [
    "# Tokenizing\n",
    "tokenizer = RegexpTokenizer(r'\\w+')\n",
    "for k in dataset.keys():\n",
    "    tokens = tokenizer.tokenize(dataset[k])\n",
    "    dataset[k] = tokens"
   ]
  },
  {
   "cell_type": "code",
   "execution_count": null,
   "metadata": {},
   "outputs": [],
   "source": [
    "# Number Removal\n",
    "for k in dataset.keys():\n",
    "    tokens = []\n",
    "    for t in dataset[k]:\n",
    "        if t.isnumeric() == False:\n",
    "            tokens.append(t)\n",
    "    dataset[k] = tokens"
   ]
  },
  {
   "cell_type": "code",
   "execution_count": null,
   "metadata": {},
   "outputs": [],
   "source": [
    "# Stopword Removal by Sastrawi\n",
    "factory = StopWordRemoverFactory()\n",
    "stopword_list = factory.get_stop_words()\n",
    "for k in dataset.keys():\n",
    "    tokens = []\n",
    "    for t in dataset[k]:\n",
    "        if t not in stopword_list:\n",
    "            tokens.append(t)\n",
    "    dataset[k] = tokens"
   ]
  },
  {
   "cell_type": "code",
   "execution_count": null,
   "metadata": {},
   "outputs": [],
   "source": [
    "# Stemming by Sastrawi dan Pembuatan Inverted Index\n",
    "factory = StemmerFactory()\n",
    "stemmer = factory.create_stemmer()\n",
    "inverted_index = {}\n",
    "for k in dataset.keys():\n",
    "    tokens = []\n",
    "    for t in dataset[k]:\n",
    "        hasil_stemming = stemmer.stem(t)\n",
    "        if hasil_stemming in inverted_index:\n",
    "            if k in inverted_index[hasil_stemming]:\n",
    "                inverted_index[hasil_stemming][k] += 1\n",
    "            else:\n",
    "                inverted_index[hasil_stemming][k] = 1\n",
    "        else:\n",
    "            inverted_index[hasil_stemming] = {k : 1}"
   ]
  },
  {
   "cell_type": "code",
   "execution_count": null,
   "metadata": {},
   "outputs": [],
   "source": [
    "# Menampilkan Inverted Index with DataFrame\n",
    "print(\"Inverted Index\")\n",
    "print(\"\")\n",
    "print(inverted_index)\n",
    "print(\"\")\n",
    "df = pd.DataFrame(inverted_index)\n",
    "df_transpose = df.transpose()\n",
    "print(df_transpose)"
   ]
  }
 ]
}