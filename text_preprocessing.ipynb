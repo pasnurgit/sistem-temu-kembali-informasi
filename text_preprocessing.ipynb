{
 "metadata": {
  "language_info": {
   "codemirror_mode": {
    "name": "ipython",
    "version": 3
   },
   "file_extension": ".py",
   "mimetype": "text/x-python",
   "name": "python",
   "nbconvert_exporter": "python",
   "pygments_lexer": "ipython3",
   "version": "3.9.2"
  },
  "orig_nbformat": 2,
  "kernelspec": {
   "name": "python392jvsc74a57bd0fe06f96167c4fc64a78c238d993189072a4e72b444216e36203d6f96126eaf0a",
   "display_name": "Python 3.9.2 64-bit"
  }
 },
 "nbformat": 4,
 "nbformat_minor": 2,
 "cells": [
  {
   "cell_type": "code",
   "execution_count": null,
   "metadata": {},
   "outputs": [],
   "source": [
    "# Import Library\n",
    "from nltk.tokenize import RegexpTokenizer\n",
    "from Sastrawi.StopWordRemover.StopWordRemoverFactory import StopWordRemoverFactory\n",
    "from Sastrawi.Stemmer.StemmerFactory import StemmerFactory"
   ]
  },
  {
   "cell_type": "code",
   "execution_count": null,
   "metadata": {},
   "outputs": [],
   "source": [
    "# Dataset\n",
    "dataset = {}\n",
    "dataset[\"d1\"] = \"Saya menyukai bahasa pemrograman Android\"\n",
    "dataset[\"d2\"] = \"Pemerintah memberikan penghargaan kepada para atlet berprestasi\"\n",
    "dataset[\"d3\"] = \"Pemerintah mengadakan lomba bahasa pemrograman untuk aplikasi pemerintahan\""
   ]
  },
  {
   "cell_type": "code",
   "execution_count": null,
   "metadata": {},
   "outputs": [],
   "source": [
    "# Case Folding\n",
    "for k in dataset.keys():\n",
    "    hasil_case_folding = dataset[k].lower()\n",
    "    dataset[k] = hasil_case_folding"
   ]
  },
  {
   "cell_type": "code",
   "execution_count": null,
   "metadata": {},
   "outputs": [],
   "source": [
    "# Whitespace Removal\n",
    "for k in dataset.keys():\n",
    "    hasil_whitespace_removal = dataset[k].strip()\n",
    "    dataset[k] = hasil_whitespace_removal"
   ]
  },
  {
   "cell_type": "code",
   "execution_count": null,
   "metadata": {},
   "outputs": [],
   "source": [
    "# Tokenizing\n",
    "tokenizer = RegexpTokenizer(r'\\w+')\n",
    "for k in dataset.keys():\n",
    "    tokens = tokenizer.tokenize(dataset[k])\n",
    "    dataset[k] = tokens"
   ]
  },
  {
   "cell_type": "code",
   "execution_count": null,
   "metadata": {},
   "outputs": [],
   "source": [
    "# Number Removal\n",
    "for k in dataset.keys():\n",
    "    tokens = []\n",
    "    for t in dataset[k]:\n",
    "        if t.isnumeric() == False:\n",
    "            tokens.append(t)\n",
    "    dataset[k] = tokens"
   ]
  },
  {
   "cell_type": "code",
   "execution_count": null,
   "metadata": {},
   "outputs": [],
   "source": [
    "# Stopword Removal by Sastrawi\n",
    "factory = StopWordRemoverFactory()\n",
    "stopword_list = factory.get_stop_words()\n",
    "for k in dataset.keys():\n",
    "    tokens = []\n",
    "    for t in dataset[k]:\n",
    "        if t not in stopword_list:\n",
    "            tokens.append(t)\n",
    "    dataset[k] = tokens"
   ]
  },
  {
   "cell_type": "code",
   "execution_count": null,
   "metadata": {},
   "outputs": [],
   "source": [
    "# Stemming by Sastrawi\n",
    "factory = StemmerFactory()\n",
    "stemmer = factory.create_stemmer()\n",
    "for k in dataset.keys():\n",
    "    tokens = []\n",
    "    for t in dataset[k]:\n",
    "        tokens.append(stemmer.stem(t))\n",
    "    dataset[k] = tokens"
   ]
  },
  {
   "cell_type": "code",
   "execution_count": null,
   "metadata": {},
   "outputs": [],
   "source": [
    "# Menampilkan Hasil Text Preprocessing\n",
    "print(\"Hasil Preprocessing\")\n",
    "print(\"\")\n",
    "print(dataset)"
   ]
  },
  {
   "cell_type": "code",
   "execution_count": null,
   "metadata": {},
   "outputs": [],
   "source": []
  }
 ]
}